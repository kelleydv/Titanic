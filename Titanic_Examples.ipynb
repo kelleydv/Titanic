{
 "cells": [
  {
   "cell_type": "code",
   "execution_count": null,
   "metadata": {
    "collapsed": false
   },
   "outputs": [],
   "source": [
    "#allows us to see plots in the notebook\n",
    "%matplotlib inline\n",
    "\n",
    "#we will need to make use of several popular python libraries\n",
    "import matplotlib   #plotting\n",
    "import numpy as np  #fast (large) array math\n",
    "import pandas as pd #statistics\n",
    "import matplotlib.pyplot as plt\n",
    "import seaborn as sns #makes plotting much prettier"
   ]
  },
  {
   "cell_type": "markdown",
   "metadata": {},
   "source": [
    "# Titanic\n",
    "This [jupyter](http://jupyter.org/) notebok analyzes a titanic dataset from [kaggle](https://www.kaggle.com/c/titanic). If you have never used a notebook like this before,\n",
    "start by clicking on `Help` -> `User Interface Tour`. After that, execute the python\n",
    "cells one at a time. Check out the [seaborn api](https://stanford.edu/~mwaskom/software/seaborn/api.html) for some of the more attractive visualizations."
   ]
  },
  {
   "cell_type": "code",
   "execution_count": null,
   "metadata": {
    "collapsed": false
   },
   "outputs": [],
   "source": [
    "#step one is to read the data from the CSV file, using pandas\n",
    "titanic = pd.read_csv('titanic_data.csv')\n",
    "type(titanic)"
   ]
  },
  {
   "cell_type": "code",
   "execution_count": null,
   "metadata": {
    "collapsed": false,
    "scrolled": false
   },
   "outputs": [],
   "source": [
    "#A DataFrame is a python object that models a table\n",
    "titanic"
   ]
  },
  {
   "cell_type": "code",
   "execution_count": null,
   "metadata": {
    "collapsed": false
   },
   "outputs": [],
   "source": [
    "#it consists of a bunch of columns, or Series objects\n",
    "print(type(titanic.Name))\n",
    "titanic.Name"
   ]
  },
  {
   "cell_type": "code",
   "execution_count": null,
   "metadata": {
    "collapsed": false
   },
   "outputs": [],
   "source": [
    "#we can use the plots built-in to pandas to get an attractive histogram\n",
    "titanic.Age.plot.hist(bins=6, title=\"Distribution of Age on the Titanic (years)\")"
   ]
  },
  {
   "cell_type": "code",
   "execution_count": null,
   "metadata": {
    "collapsed": false,
    "scrolled": false
   },
   "outputs": [],
   "source": [
    "#or we can use seaborn's lovely \"distplot\"\n",
    "sns.distplot(titanic.Age.dropna(), bins=10, axlabel=\"Distribution of Age on the Titanic (years)\")"
   ]
  },
  {
   "cell_type": "code",
   "execution_count": null,
   "metadata": {
    "collapsed": false
   },
   "outputs": [],
   "source": [
    "#summary statistics are had with the describe()\n",
    "#method on Series and DataFrames\n",
    "titanic.Age.describe()"
   ]
  },
  {
   "cell_type": "markdown",
   "metadata": {},
   "source": [
    "The distribution of age on the titanic is roughly symmetric with $\\overline{x}\\approx29.7$ years and a standard deviation of approximately 14.5 years. There appears to be a small, second mode representing young children on the titanic."
   ]
  },
  {
   "cell_type": "code",
   "execution_count": null,
   "metadata": {
    "collapsed": false
   },
   "outputs": [],
   "source": [
    "#You may be curious about the dropna() method we called\n",
    "#on the series object. That was necessary because there\n",
    "#are some null values for the age variable.\n",
    "titanic.Age"
   ]
  },
  {
   "cell_type": "code",
   "execution_count": null,
   "metadata": {
    "collapsed": false
   },
   "outputs": [],
   "source": [
    "len(titanic.Age), len(titanic.Age.dropna())"
   ]
  },
  {
   "cell_type": "code",
   "execution_count": null,
   "metadata": {
    "collapsed": false
   },
   "outputs": [],
   "source": [
    "#Seaborn can also make some nice bxplots for us\n",
    "sns.boxplot(x='Pclass', y='Age', data=titanic)"
   ]
  },
  {
   "cell_type": "code",
   "execution_count": null,
   "metadata": {
    "collapsed": false,
    "scrolled": false
   },
   "outputs": [],
   "source": [
    "age_of_survived = titanic.Age.where(titanic.Survived == 1)\n",
    "age_of_deceased = titanic.where(titanic.Survived == 0).Age #different syntax, for the sake of example\n",
    "sns.boxplot(data=[age_of_survived, age_of_deceased])"
   ]
  },
  {
   "cell_type": "code",
   "execution_count": null,
   "metadata": {
    "collapsed": false
   },
   "outputs": [],
   "source": [
    "sns.countplot(x='Sex', hue='Survived', data=titanic)"
   ]
  },
  {
   "cell_type": "code",
   "execution_count": null,
   "metadata": {
    "collapsed": false
   },
   "outputs": [],
   "source": [
    "sns.countplot(x='Survived', hue='Sex', data=titanic)"
   ]
  },
  {
   "cell_type": "code",
   "execution_count": null,
   "metadata": {
    "collapsed": false
   },
   "outputs": [],
   "source": [
    "help(sns.distplot)"
   ]
  },
  {
   "cell_type": "code",
   "execution_count": null,
   "metadata": {
    "collapsed": true
   },
   "outputs": [],
   "source": []
  }
 ],
 "metadata": {
  "kernelspec": {
   "display_name": "Python 3",
   "language": "python",
   "name": "python3"
  },
  "language_info": {
   "codemirror_mode": {
    "name": "ipython",
    "version": 3
   },
   "file_extension": ".py",
   "mimetype": "text/x-python",
   "name": "python",
   "nbconvert_exporter": "python",
   "pygments_lexer": "ipython3",
   "version": "3.5.1"
  }
 },
 "nbformat": 4,
 "nbformat_minor": 1
}
